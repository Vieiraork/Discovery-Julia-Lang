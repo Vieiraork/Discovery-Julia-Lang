{
 "cells": [
  {
   "cell_type": "markdown",
   "id": "9422fe79",
   "metadata": {},
   "source": [
    "# Loops\n",
    "\n",
    "Topics:\n",
    "    1. **while** loops\n",
    "    2. **for** loops\n",
    "    \n",
    "### While loops\n",
    "The syntax for a **while** is\n",
    "    \n",
    "    **while *condition* \n",
    "        *loop body* \n",
    "      end\n",
    "    **\n",
    "        \n",
    "For example, we could use **while** to count or to iterate over an array.\n"
   ]
  },
  {
   "cell_type": "code",
   "execution_count": 2,
   "id": "30567aa3",
   "metadata": {},
   "outputs": [
    {
     "name": "stdout",
     "output_type": "stream",
     "text": [
      "1\n",
      "2\n",
      "3\n",
      "4\n",
      "5\n",
      "6\n",
      "7\n",
      "8\n",
      "9\n",
      "10\n"
     ]
    }
   ],
   "source": [
    "n = 0\n",
    "while n < 10\n",
    "    n += 1\n",
    "    println(n)\n",
    "end"
   ]
  },
  {
   "cell_type": "code",
   "execution_count": 4,
   "id": "ac629778",
   "metadata": {},
   "outputs": [
    {
     "name": "stdout",
     "output_type": "stream",
     "text": [
      "Hi Haha, it's great to see you.\n",
      "Hi Hasdf, it's great to see you.\n",
      "Hi adsfoj, it's great to see you.\n",
      "Hi asjdf, it's great to see you.\n",
      "Hi fasjdfo, it's great to see you.\n"
     ]
    }
   ],
   "source": [
    "myfriends = [\"Haha\", \"Hasdf\", \"adsfoj\", \"asjdf\", \"fasjdfo\"]\n",
    "\n",
    "i = 1\n",
    "while i <= length(myfriends)\n",
    "    friend = myfriends[i]\n",
    "    println(\"Hi $friend, it's great to see you.\")\n",
    "    i += 1\n",
    "end"
   ]
  },
  {
   "cell_type": "markdown",
   "id": "c93c99ad",
   "metadata": {},
   "source": [
    "### For loops\n",
    "\n",
    "The syntax fir a **for** loop is\n",
    "    **for *var* in *loop iterable* **\n",
    "        ** *loop body* **\n",
    "    **end**\n",
    "\n",
    "We could use a for loop to generate the same results as either of the examples above:"
   ]
  },
  {
   "cell_type": "code",
   "execution_count": 5,
   "id": "6008cd1b",
   "metadata": {},
   "outputs": [
    {
     "name": "stdout",
     "output_type": "stream",
     "text": [
      "1\n",
      "2\n",
      "3\n",
      "4\n",
      "5\n",
      "6\n",
      "7\n",
      "8\n",
      "9\n",
      "10\n"
     ]
    }
   ],
   "source": [
    "for n in 1:10\n",
    "    println(n)\n",
    "end"
   ]
  },
  {
   "cell_type": "code",
   "execution_count": 6,
   "id": "7141c256",
   "metadata": {},
   "outputs": [
    {
     "name": "stdout",
     "output_type": "stream",
     "text": [
      "Hi Haha, it's great to see you.\n",
      "Hi Hasdf, it's great to see you.\n",
      "Hi adsfoj, it's great to see you.\n",
      "Hi asjdf, it's great to see you.\n",
      "Hi fasjdfo, it's great to see you.\n"
     ]
    }
   ],
   "source": [
    "myfriends = [\"Haha\", \"Hasdf\", \"adsfoj\", \"asjdf\", \"fasjdfo\"]\n",
    "\n",
    "for friend in myfriends\n",
    "    println(\"Hi $friend, it's great to see you.\")\n",
    "end"
   ]
  },
  {
   "cell_type": "markdown",
   "id": "63605571",
   "metadata": {},
   "source": [
    "Note that we could replace **in** with either **=** or **∈**"
   ]
  },
  {
   "cell_type": "code",
   "execution_count": 7,
   "id": "2d2930b0",
   "metadata": {},
   "outputs": [
    {
     "name": "stdout",
     "output_type": "stream",
     "text": [
      "1\n",
      "2\n",
      "3\n",
      "4\n",
      "5\n",
      "6\n",
      "7\n",
      "8\n",
      "9\n",
      "10\n"
     ]
    }
   ],
   "source": [
    "for n = 1:10\n",
    "    println(n)\n",
    "end"
   ]
  },
  {
   "cell_type": "code",
   "execution_count": 8,
   "id": "2f30b770",
   "metadata": {},
   "outputs": [
    {
     "name": "stdout",
     "output_type": "stream",
     "text": [
      "1\n",
      "2\n",
      "3\n",
      "4\n",
      "5\n",
      "6\n",
      "7\n",
      "8\n",
      "9\n",
      "10\n"
     ]
    }
   ],
   "source": [
    "for n ∈ 1:10\n",
    "    println(n)\n",
    "end"
   ]
  },
  {
   "cell_type": "markdown",
   "id": "c77333ee",
   "metadata": {},
   "source": [
    "Now let's use **for** loops to create some addition tables, where the value of every entry is the sum of its row and column indices.\n",
    "\n",
    "First, we initialize an array with zeros."
   ]
  },
  {
   "cell_type": "code",
   "execution_count": 9,
   "id": "85204aae",
   "metadata": {},
   "outputs": [
    {
     "data": {
      "text/plain": [
       "5×5 Array{Float64,2}:\n",
       " 0.0  0.0  0.0  0.0  0.0\n",
       " 0.0  0.0  0.0  0.0  0.0\n",
       " 0.0  0.0  0.0  0.0  0.0\n",
       " 0.0  0.0  0.0  0.0  0.0\n",
       " 0.0  0.0  0.0  0.0  0.0"
      ]
     },
     "execution_count": 9,
     "metadata": {},
     "output_type": "execute_result"
    }
   ],
   "source": [
    "m, n = 5, 5\n",
    "a = zeros(m, n)"
   ]
  },
  {
   "cell_type": "code",
   "execution_count": 10,
   "id": "ba6911fe",
   "metadata": {},
   "outputs": [
    {
     "data": {
      "text/plain": [
       "5×5 Array{Float64,2}:\n",
       " 2.0  3.0  4.0  5.0   6.0\n",
       " 3.0  4.0  5.0  6.0   7.0\n",
       " 4.0  5.0  6.0  7.0   8.0\n",
       " 5.0  6.0  7.0  8.0   9.0\n",
       " 6.0  7.0  8.0  9.0  10.0"
      ]
     },
     "execution_count": 10,
     "metadata": {},
     "output_type": "execute_result"
    }
   ],
   "source": [
    "for i in 1:m\n",
    "    for j in 1:n\n",
    "        a[i, j] = i + j\n",
    "    end\n",
    "end\n",
    "a"
   ]
  },
  {
   "cell_type": "markdown",
   "id": "d0fc90a7",
   "metadata": {},
   "source": [
    "Here's some syntatic sugar for the same nested **for** loop"
   ]
  },
  {
   "cell_type": "code",
   "execution_count": 11,
   "id": "0c287967",
   "metadata": {},
   "outputs": [
    {
     "data": {
      "text/plain": [
       "5×5 Array{Float64,2}:\n",
       " 0.0  0.0  0.0  0.0  0.0\n",
       " 0.0  0.0  0.0  0.0  0.0\n",
       " 0.0  0.0  0.0  0.0  0.0\n",
       " 0.0  0.0  0.0  0.0  0.0\n",
       " 0.0  0.0  0.0  0.0  0.0"
      ]
     },
     "execution_count": 11,
     "metadata": {},
     "output_type": "execute_result"
    }
   ],
   "source": [
    "b = zeros(m, n)"
   ]
  },
  {
   "cell_type": "code",
   "execution_count": 12,
   "id": "9e0c52f6",
   "metadata": {},
   "outputs": [
    {
     "data": {
      "text/plain": [
       "5×5 Array{Float64,2}:\n",
       " 2.0  3.0  4.0  5.0   6.0\n",
       " 3.0  4.0  5.0  6.0   7.0\n",
       " 4.0  5.0  6.0  7.0   8.0\n",
       " 5.0  6.0  7.0  8.0   9.0\n",
       " 6.0  7.0  8.0  9.0  10.0"
      ]
     },
     "execution_count": 12,
     "metadata": {},
     "output_type": "execute_result"
    }
   ],
   "source": [
    "for i in 1:m, j in 1:n\n",
    "    b[i, j] = i + j\n",
    "end\n",
    "b"
   ]
  },
  {
   "cell_type": "markdown",
   "id": "1f5837b2",
   "metadata": {},
   "source": [
    "The more \"Julia\" way to create this addition table would have been with an __array comprehension__."
   ]
  },
  {
   "cell_type": "code",
   "execution_count": 14,
   "id": "a91d9dcb",
   "metadata": {},
   "outputs": [
    {
     "data": {
      "text/plain": [
       "5×5 Array{Int64,2}:\n",
       " 2  3  4  5   6\n",
       " 3  4  5  6   7\n",
       " 4  5  6  7   8\n",
       " 5  6  7  8   9\n",
       " 6  7  8  9  10"
      ]
     },
     "execution_count": 14,
     "metadata": {},
     "output_type": "execute_result"
    }
   ],
   "source": [
    "c = [i + j for i in 1:m, j in 1:n]"
   ]
  },
  {
   "cell_type": "markdown",
   "id": "ff87eef7",
   "metadata": {},
   "source": [
    "In the next example, we embed an array cinorehension in a **for** loop, generating addition tables of growing size."
   ]
  },
  {
   "cell_type": "code",
   "execution_count": 15,
   "id": "dcd955db",
   "metadata": {},
   "outputs": [
    {
     "data": {
      "text/plain": [
       "5×1 Array{Int64,2}:\n",
       " 2\n",
       " 3\n",
       " 4\n",
       " 5\n",
       " 6"
      ]
     },
     "metadata": {},
     "output_type": "display_data"
    },
    {
     "data": {
      "text/plain": [
       "5×2 Array{Int64,2}:\n",
       " 2  3\n",
       " 3  4\n",
       " 4  5\n",
       " 5  6\n",
       " 6  7"
      ]
     },
     "metadata": {},
     "output_type": "display_data"
    },
    {
     "data": {
      "text/plain": [
       "5×3 Array{Int64,2}:\n",
       " 2  3  4\n",
       " 3  4  5\n",
       " 4  5  6\n",
       " 5  6  7\n",
       " 6  7  8"
      ]
     },
     "metadata": {},
     "output_type": "display_data"
    },
    {
     "data": {
      "text/plain": [
       "5×4 Array{Int64,2}:\n",
       " 2  3  4  5\n",
       " 3  4  5  6\n",
       " 4  5  6  7\n",
       " 5  6  7  8\n",
       " 6  7  8  9"
      ]
     },
     "metadata": {},
     "output_type": "display_data"
    },
    {
     "data": {
      "text/plain": [
       "5×5 Array{Int64,2}:\n",
       " 2  3  4  5   6\n",
       " 3  4  5  6   7\n",
       " 4  5  6  7   8\n",
       " 5  6  7  8   9\n",
       " 6  7  8  9  10"
      ]
     },
     "metadata": {},
     "output_type": "display_data"
    },
    {
     "data": {
      "text/plain": [
       "5×6 Array{Int64,2}:\n",
       " 2  3  4  5   6   7\n",
       " 3  4  5  6   7   8\n",
       " 4  5  6  7   8   9\n",
       " 5  6  7  8   9  10\n",
       " 6  7  8  9  10  11"
      ]
     },
     "metadata": {},
     "output_type": "display_data"
    },
    {
     "data": {
      "text/plain": [
       "5×7 Array{Int64,2}:\n",
       " 2  3  4  5   6   7   8\n",
       " 3  4  5  6   7   8   9\n",
       " 4  5  6  7   8   9  10\n",
       " 5  6  7  8   9  10  11\n",
       " 6  7  8  9  10  11  12"
      ]
     },
     "metadata": {},
     "output_type": "display_data"
    },
    {
     "data": {
      "text/plain": [
       "5×8 Array{Int64,2}:\n",
       " 2  3  4  5   6   7   8   9\n",
       " 3  4  5  6   7   8   9  10\n",
       " 4  5  6  7   8   9  10  11\n",
       " 5  6  7  8   9  10  11  12\n",
       " 6  7  8  9  10  11  12  13"
      ]
     },
     "metadata": {},
     "output_type": "display_data"
    },
    {
     "data": {
      "text/plain": [
       "5×9 Array{Int64,2}:\n",
       " 2  3  4  5   6   7   8   9  10\n",
       " 3  4  5  6   7   8   9  10  11\n",
       " 4  5  6  7   8   9  10  11  12\n",
       " 5  6  7  8   9  10  11  12  13\n",
       " 6  7  8  9  10  11  12  13  14"
      ]
     },
     "metadata": {},
     "output_type": "display_data"
    },
    {
     "data": {
      "text/plain": [
       "5×10 Array{Int64,2}:\n",
       " 2  3  4  5   6   7   8   9  10  11\n",
       " 3  4  5  6   7   8   9  10  11  12\n",
       " 4  5  6  7   8   9  10  11  12  13\n",
       " 5  6  7  8   9  10  11  12  13  14\n",
       " 6  7  8  9  10  11  12  13  14  15"
      ]
     },
     "metadata": {},
     "output_type": "display_data"
    }
   ],
   "source": [
    "for n in 1:10\n",
    "    A = [i + j for i in 1:m, j in 1:n]\n",
    "    display(A)\n",
    "end"
   ]
  },
  {
   "cell_type": "code",
   "execution_count": null,
   "id": "c7d93e55",
   "metadata": {},
   "outputs": [],
   "source": []
  }
 ],
 "metadata": {
  "kernelspec": {
   "display_name": "Julia 1.5.3",
   "language": "julia",
   "name": "julia-1.5"
  },
  "language_info": {
   "file_extension": ".jl",
   "mimetype": "application/julia",
   "name": "julia",
   "version": "1.5.3"
  }
 },
 "nbformat": 4,
 "nbformat_minor": 5
}
