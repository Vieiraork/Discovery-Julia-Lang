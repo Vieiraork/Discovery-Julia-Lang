{
 "cells": [
  {
   "cell_type": "code",
   "execution_count": 1,
   "id": "0e581bd3",
   "metadata": {},
   "outputs": [
    {
     "name": "stdout",
     "output_type": "stream",
     "text": [
      "Hello World!\n"
     ]
    }
   ],
   "source": [
    "println(\"Hello World!\")"
   ]
  },
  {
   "cell_type": "code",
   "execution_count": 2,
   "id": "d9686804",
   "metadata": {},
   "outputs": [
    {
     "data": {
      "text/plain": [
       "Float64"
      ]
     },
     "execution_count": 2,
     "metadata": {},
     "output_type": "execute_result"
    }
   ],
   "source": [
    "my_pi = 3.1415\n",
    "typeof(my_pi)"
   ]
  },
  {
   "cell_type": "code",
   "execution_count": 4,
   "id": "3d250b87",
   "metadata": {},
   "outputs": [],
   "source": [
    "# Comentário de uma linha!"
   ]
  },
  {
   "cell_type": "code",
   "execution_count": 5,
   "id": "65a5d5d3",
   "metadata": {},
   "outputs": [
    {
     "data": {
      "text/plain": [
       "3"
      ]
     },
     "execution_count": 5,
     "metadata": {},
     "output_type": "execute_result"
    }
   ],
   "source": [
    "😍 = 1\n",
    "😎 = 3"
   ]
  },
  {
   "cell_type": "code",
   "execution_count": 6,
   "id": "1c831051",
   "metadata": {},
   "outputs": [
    {
     "data": {
      "text/plain": [
       "false"
      ]
     },
     "execution_count": 6,
     "metadata": {},
     "output_type": "execute_result"
    }
   ],
   "source": [
    "😍 + 😎 == 2"
   ]
  },
  {
   "cell_type": "code",
   "execution_count": 7,
   "id": "3cd18b19",
   "metadata": {},
   "outputs": [],
   "source": [
    "#=\n",
    "Comentário de multiplas linhas\n",
    "=#"
   ]
  },
  {
   "cell_type": "code",
   "execution_count": 8,
   "id": "310fc9b3",
   "metadata": {},
   "outputs": [
    {
     "data": {
      "text/plain": [
       "10"
      ]
     },
     "execution_count": 8,
     "metadata": {},
     "output_type": "execute_result"
    }
   ],
   "source": [
    "sum = 3 + 7"
   ]
  },
  {
   "cell_type": "code",
   "execution_count": null,
   "id": "e7ba1972",
   "metadata": {},
   "outputs": [],
   "source": [
    "diference = 10 - 3"
   ]
  },
  {
   "cell_type": "code",
   "execution_count": null,
   "id": "56d962e3",
   "metadata": {},
   "outputs": [],
   "source": [
    "product = 10 * 7"
   ]
  },
  {
   "cell_type": "code",
   "execution_count": null,
   "id": "938d2503",
   "metadata": {},
   "outputs": [],
   "source": [
    "power = 10 ^ 2"
   ]
  },
  {
   "cell_type": "code",
   "execution_count": null,
   "id": "23ec0827",
   "metadata": {},
   "outputs": [],
   "source": [
    "modulus = 100 % 2"
   ]
  },
  {
   "cell_type": "markdown",
   "id": "cbbc4454",
   "metadata": {},
   "source": [
    "### Exercises"
   ]
  },
  {
   "cell_type": "markdown",
   "id": "7aa6b3b3",
   "metadata": {},
   "source": []
  },
  {
   "cell_type": "code",
   "execution_count": 14,
   "id": "c9b218d6",
   "metadata": {},
   "outputs": [
    {
     "data": {
      "text/plain": [
       "365.0f0"
      ]
     },
     "execution_count": 14,
     "metadata": {},
     "output_type": "execute_result"
    }
   ],
   "source": [
    "days = 365\n",
    "\n",
    "convert(Float32, days)"
   ]
  },
  {
   "cell_type": "code",
   "execution_count": 15,
   "id": "3111db68",
   "metadata": {},
   "outputs": [
    {
     "name": "stdout",
     "output_type": "stream",
     "text": [
      "365\n"
     ]
    }
   ],
   "source": [
    "println(days)"
   ]
  },
  {
   "cell_type": "code",
   "execution_count": null,
   "id": "a1ddb0a6",
   "metadata": {},
   "outputs": [],
   "source": []
  }
 ],
 "metadata": {
  "kernelspec": {
   "display_name": "Julia 1.5.3",
   "language": "julia",
   "name": "julia-1.5"
  },
  "language_info": {
   "file_extension": ".jl",
   "mimetype": "application/julia",
   "name": "julia",
   "version": "1.5.3"
  }
 },
 "nbformat": 4,
 "nbformat_minor": 5
}
