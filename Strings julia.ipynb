{
 "cells": [
  {
   "cell_type": "markdown",
   "id": "c55cbfbb",
   "metadata": {},
   "source": [
    "# Strings\n",
    "\n",
    "1. How to get a string\n",
    "2. String interpolation\n",
    "3. String concatenation"
   ]
  },
  {
   "cell_type": "markdown",
   "id": "ae207ddf",
   "metadata": {},
   "source": [
    "# How to get a string\n",
    "\n",
    "enclose your characters in \"\" or \"\"\" \"\"\"!"
   ]
  },
  {
   "cell_type": "code",
   "execution_count": 1,
   "id": "25aaa578",
   "metadata": {},
   "outputs": [
    {
     "data": {
      "text/plain": [
       "\"I am a string.\""
      ]
     },
     "execution_count": 1,
     "metadata": {},
     "output_type": "execute_result"
    }
   ],
   "source": [
    "s1 = \"I am a string.\""
   ]
  },
  {
   "cell_type": "code",
   "execution_count": 2,
   "id": "10caf0ab",
   "metadata": {},
   "outputs": [
    {
     "data": {
      "text/plain": [
       "\"I am also a string.\""
      ]
     },
     "execution_count": 2,
     "metadata": {},
     "output_type": "execute_result"
    }
   ],
   "source": [
    "s2 = \"\"\"I am also a string.\"\"\""
   ]
  },
  {
   "cell_type": "markdown",
   "id": "61bc60d5",
   "metadata": {},
   "source": [
    "# String interpolation"
   ]
  },
  {
   "cell_type": "code",
   "execution_count": 4,
   "id": "3bb33ceb",
   "metadata": {},
   "outputs": [
    {
     "name": "stdout",
     "output_type": "stream",
     "text": [
      "Hello, my name is William.\n",
      "I have 10 fingers and 10 toes. That is 20\n"
     ]
    }
   ],
   "source": [
    "name = \"William\"\n",
    "num_fingers = 10\n",
    "num_toes = 10\n",
    "\n",
    "println(\"Hello, my name is $name.\")\n",
    "println(\"I have $num_fingers fingers and $num_toes toes. That is $(num_toes + num_toes)\")"
   ]
  },
  {
   "cell_type": "markdown",
   "id": "d3c04f2e",
   "metadata": {},
   "source": [
    "# String concatenation\n",
    "\n",
    "Below are three ways we can concatenate strings!\n",
    "\n",
    "The first way is o use the **string()** function.\n",
    "**string()** converts non-string inputs to strings."
   ]
  },
  {
   "cell_type": "code",
   "execution_count": 6,
   "id": "22126369",
   "metadata": {},
   "outputs": [
    {
     "data": {
      "text/plain": [
       "\"Olá Mundo\""
      ]
     },
     "execution_count": 6,
     "metadata": {},
     "output_type": "execute_result"
    }
   ],
   "source": [
    "string(\"Olá \", \"Mundo\")"
   ]
  },
  {
   "cell_type": "code",
   "execution_count": 9,
   "id": "a93e7ad2",
   "metadata": {},
   "outputs": [
    {
     "data": {
      "text/plain": [
       "\"I dont't know, but 10 are to few\""
      ]
     },
     "execution_count": 9,
     "metadata": {},
     "output_type": "execute_result"
    }
   ],
   "source": [
    "string(\"I dont't know, but \", 10, \" are to few\")"
   ]
  },
  {
   "cell_type": "code",
   "execution_count": 13,
   "id": "32368a5b",
   "metadata": {},
   "outputs": [],
   "source": [
    "s3 = \"How many cats \";"
   ]
  },
  {
   "cell_type": "code",
   "execution_count": 14,
   "id": "570fd6c8",
   "metadata": {},
   "outputs": [],
   "source": [
    "s4 = \"Are too many cats?\";"
   ]
  },
  {
   "cell_type": "code",
   "execution_count": 15,
   "id": "77d97e6e",
   "metadata": {},
   "outputs": [
    {
     "data": {
      "text/plain": [
       "\"How many cats Are too many cats?\""
      ]
     },
     "execution_count": 15,
     "metadata": {},
     "output_type": "execute_result"
    }
   ],
   "source": [
    "s3*s4"
   ]
  },
  {
   "cell_type": "code",
   "execution_count": 16,
   "id": "48145647",
   "metadata": {},
   "outputs": [
    {
     "data": {
      "text/plain": [
       "\"How many cats Are too many cats?\""
      ]
     },
     "execution_count": 16,
     "metadata": {},
     "output_type": "execute_result"
    }
   ],
   "source": [
    "\"$s3$s4\""
   ]
  },
  {
   "cell_type": "code",
   "execution_count": null,
   "id": "6acc2178",
   "metadata": {},
   "outputs": [],
   "source": []
  }
 ],
 "metadata": {
  "kernelspec": {
   "display_name": "Julia 1.5.3",
   "language": "julia",
   "name": "julia-1.5"
  },
  "language_info": {
   "file_extension": ".jl",
   "mimetype": "application/julia",
   "name": "julia",
   "version": "1.5.3"
  }
 },
 "nbformat": 4,
 "nbformat_minor": 5
}
