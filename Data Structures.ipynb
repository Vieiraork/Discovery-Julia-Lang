{
 "cells": [
  {
   "cell_type": "markdown",
   "id": "dcc68a7c",
   "metadata": {},
   "source": [
    "# Data structures\n",
    "\n",
    "### Types of data strutures covered:\n",
    "    1. Dictionaries\n",
    "    2. Tuples\n",
    "    3. Arrays"
   ]
  },
  {
   "cell_type": "markdown",
   "id": "b998f736",
   "metadata": {},
   "source": [
    "# Dictionaries\n",
    "\n",
    "if we have sets of data related to one another, we may choose to store that data in a dictionary. A good exemple is a contacts list, where we associate names with phone numbers."
   ]
  },
  {
   "cell_type": "code",
   "execution_count": 1,
   "id": "3d47a8d7",
   "metadata": {},
   "outputs": [
    {
     "data": {
      "text/plain": [
       "Dict{String,String} with 2 entries:\n",
       "  \"Exemplo\" => \"75149-4614\"\n",
       "  \"Flex\"    => \"4689-4581\""
      ]
     },
     "execution_count": 1,
     "metadata": {},
     "output_type": "execute_result"
    }
   ],
   "source": [
    "phonebook = Dict(\"Exemplo\" => \"75149-4614\", \"Flex\" => \"4689-4581\")"
   ]
  },
  {
   "cell_type": "markdown",
   "id": "e84116ff",
   "metadata": {},
   "source": [
    "We can add another entry to this dictionary as follows"
   ]
  },
  {
   "cell_type": "code",
   "execution_count": null,
   "id": "f7209cfa",
   "metadata": {},
   "outputs": [],
   "source": [
    "phonebook[\"Python\"] = \"1651-1651\""
   ]
  },
  {
   "cell_type": "markdown",
   "id": "0a6eca05",
   "metadata": {},
   "source": [
    "To access your key in dictionary"
   ]
  },
  {
   "cell_type": "code",
   "execution_count": 4,
   "id": "7e32bc79",
   "metadata": {},
   "outputs": [
    {
     "name": "stdout",
     "output_type": "stream",
     "text": [
      "1651-1651\n"
     ]
    }
   ],
   "source": [
    "println(phonebook[\"Python\"])"
   ]
  },
  {
   "cell_type": "markdown",
   "id": "b6a72a8f",
   "metadata": {},
   "source": [
    "We can also get Python number - and simultaneously delete him from our contact list - by using **pop!**"
   ]
  },
  {
   "cell_type": "code",
   "execution_count": 5,
   "id": "eb366578",
   "metadata": {},
   "outputs": [
    {
     "data": {
      "text/plain": [
       "\"1651-1651\""
      ]
     },
     "execution_count": 5,
     "metadata": {},
     "output_type": "execute_result"
    }
   ],
   "source": [
    "pop!(phonebook, \"Python\")"
   ]
  },
  {
   "cell_type": "code",
   "execution_count": 6,
   "id": "a82c35c6",
   "metadata": {},
   "outputs": [
    {
     "data": {
      "text/plain": [
       "Dict{String,String} with 2 entries:\n",
       "  \"Exemplo\" => \"75149-4614\"\n",
       "  \"Flex\"    => \"4689-4581\""
      ]
     },
     "execution_count": 6,
     "metadata": {},
     "output_type": "execute_result"
    }
   ],
   "source": [
    "phonebook"
   ]
  },
  {
   "cell_type": "markdown",
   "id": "bcc0e3c3",
   "metadata": {},
   "source": [
    "Unlike tuples and arryas, dictionaries are not ordered. So we can't index into them."
   ]
  },
  {
   "cell_type": "code",
   "execution_count": 7,
   "id": "a036f7c9",
   "metadata": {},
   "outputs": [
    {
     "ename": "LoadError",
     "evalue": "\u001b[91mKeyError: key 1 not found\u001b[39m",
     "output_type": "error",
     "traceback": [
      "\u001b[91mKeyError: key 1 not found\u001b[39m",
      "",
      "Stacktrace:",
      " [1] getindex(::Dict{String,String}, ::Int64) at .\\dict.jl:467",
      " [2] top-level scope at In[7]:1",
      " [3] include_string(::Function, ::Module, ::String, ::String) at .\\loading.jl:1091"
     ]
    }
   ],
   "source": [
    "phonebook[1]"
   ]
  },
  {
   "cell_type": "markdown",
   "id": "9c81785a",
   "metadata": {},
   "source": [
    "# Tuples\n",
    "\n",
    "We can create a tuple by enclosing an ordered sequence of elements in **(  )**"
   ]
  },
  {
   "cell_type": "code",
   "execution_count": 12,
   "id": "666be3bb",
   "metadata": {},
   "outputs": [
    {
     "data": {
      "text/plain": [
       "(\"Flamengo\", \"Liquid\", \"GodSent\")"
      ]
     },
     "execution_count": 12,
     "metadata": {},
     "output_type": "execute_result"
    }
   ],
   "source": [
    "favoriteteams = (\"Flamengo\", \"Liquid\", \"GodSent\")"
   ]
  },
  {
   "cell_type": "markdown",
   "id": "2b865b6e",
   "metadata": {},
   "source": [
    "We can index into this tuple."
   ]
  },
  {
   "cell_type": "code",
   "execution_count": 9,
   "id": "a80a0520",
   "metadata": {},
   "outputs": [
    {
     "data": {
      "text/plain": [
       "\"Flamengo\""
      ]
     },
     "execution_count": 9,
     "metadata": {},
     "output_type": "execute_result"
    }
   ],
   "source": [
    "favoriteteams[1]"
   ]
  },
  {
   "cell_type": "markdown",
   "id": "00719e5e",
   "metadata": {},
   "source": [
    "But since tuples are immutable, we can't update it"
   ]
  },
  {
   "cell_type": "code",
   "execution_count": 13,
   "id": "232f9a8f",
   "metadata": {},
   "outputs": [
    {
     "ename": "LoadError",
     "evalue": "\u001b[91mMethodError: no method matching setindex!(::Tuple{String,String,String}, ::String, ::Int64)\u001b[39m",
     "output_type": "error",
     "traceback": [
      "\u001b[91mMethodError: no method matching setindex!(::Tuple{String,String,String}, ::String, ::Int64)\u001b[39m",
      "",
      "Stacktrace:",
      " [1] top-level scope at In[13]:1",
      " [2] include_string(::Function, ::Module, ::String, ::String) at .\\loading.jl:1091"
     ]
    }
   ],
   "source": [
    "favoriteteams[1] = \"Other\""
   ]
  },
  {
   "cell_type": "markdown",
   "id": "ad7bf50d",
   "metadata": {},
   "source": [
    "# Arrays\n",
    "\n",
    "Unlike tuples, arrays are mutable. Unlike dictionaries, arrays contain ordered sequences of elements.\n",
    "\n",
    "We can create an array by enclosing this sequence of elements in **[  ]**"
   ]
  },
  {
   "cell_type": "code",
   "execution_count": 15,
   "id": "d1437e56",
   "metadata": {},
   "outputs": [
    {
     "data": {
      "text/plain": [
       "5-element Array{String,1}:\n",
       " \"Ex1\"\n",
       " \"Ex2\"\n",
       " \"Ex3\"\n",
       " \"Ex4\"\n",
       " \"Ex5\""
      ]
     },
     "execution_count": 15,
     "metadata": {},
     "output_type": "execute_result"
    }
   ],
   "source": [
    "myfriends = [\"Ex1\", \"Ex2\", \"Ex3\", \"Ex4\", \"Ex5\"]"
   ]
  },
  {
   "cell_type": "markdown",
   "id": "87a899d2",
   "metadata": {},
   "source": [
    "Or to store a sequence of numbers"
   ]
  },
  {
   "cell_type": "code",
   "execution_count": 16,
   "id": "d36e8ff8",
   "metadata": {},
   "outputs": [
    {
     "data": {
      "text/plain": [
       "7-element Array{Int64,1}:\n",
       "  1\n",
       "  1\n",
       "  2\n",
       "  3\n",
       "  5\n",
       "  8\n",
       " 13"
      ]
     },
     "execution_count": 16,
     "metadata": {},
     "output_type": "execute_result"
    }
   ],
   "source": [
    "fibonacci = [1, 1, 2, 3, 5, 8, 13]"
   ]
  },
  {
   "cell_type": "markdown",
   "id": "208920cd",
   "metadata": {},
   "source": [
    "Once we have an array, we can grab individual pieces of data from inside that array by indexing into the array. For example, if we want the third friend listed in **myfriends**, we write:"
   ]
  },
  {
   "cell_type": "code",
   "execution_count": 17,
   "id": "0150aebd",
   "metadata": {},
   "outputs": [
    {
     "data": {
      "text/plain": [
       "\"Ex3\""
      ]
     },
     "execution_count": 17,
     "metadata": {},
     "output_type": "execute_result"
    }
   ],
   "source": [
    "myfriends[3]"
   ]
  },
  {
   "cell_type": "markdown",
   "id": "51711301",
   "metadata": {},
   "source": [
    "We can use indexing to edit an existing element of an array"
   ]
  },
  {
   "cell_type": "code",
   "execution_count": 18,
   "id": "48ff94aa",
   "metadata": {},
   "outputs": [
    {
     "data": {
      "text/plain": [
       "5-element Array{String,1}:\n",
       " \"Ex1\"\n",
       " \"Ex2\"\n",
       " \"Novo Ex3\"\n",
       " \"Ex4\"\n",
       " \"Ex5\""
      ]
     },
     "execution_count": 18,
     "metadata": {},
     "output_type": "execute_result"
    }
   ],
   "source": [
    "myfriends[3] = \"Novo Ex3\"\n",
    "myfriends"
   ]
  },
  {
   "cell_type": "markdown",
   "id": "02372484",
   "metadata": {},
   "source": [
    "We can also edit the array by using the **push!** and **pop!** functions. **push!** adds an element to the end of an array and **pop!** removes the last element of an array.\n",
    "\n",
    "We can add another number to fibonacci sequence"
   ]
  },
  {
   "cell_type": "code",
   "execution_count": 19,
   "id": "b51e641c",
   "metadata": {},
   "outputs": [
    {
     "data": {
      "text/plain": [
       "8-element Array{Int64,1}:\n",
       "  1\n",
       "  1\n",
       "  2\n",
       "  3\n",
       "  5\n",
       "  8\n",
       " 13\n",
       " 21"
      ]
     },
     "execution_count": 19,
     "metadata": {},
     "output_type": "execute_result"
    }
   ],
   "source": [
    "push!(fibonacci, 21)"
   ]
  },
  {
   "cell_type": "markdown",
   "id": "6e58c53f",
   "metadata": {},
   "source": [
    "And then remove it"
   ]
  },
  {
   "cell_type": "code",
   "execution_count": 20,
   "id": "ad7f58c1",
   "metadata": {},
   "outputs": [
    {
     "data": {
      "text/plain": [
       "7-element Array{Int64,1}:\n",
       "  1\n",
       "  1\n",
       "  2\n",
       "  3\n",
       "  5\n",
       "  8\n",
       " 13"
      ]
     },
     "execution_count": 20,
     "metadata": {},
     "output_type": "execute_result"
    }
   ],
   "source": [
    "pop!(fibonacci)\n",
    "fibonacci"
   ]
  },
  {
   "cell_type": "markdown",
   "id": "520bca6a",
   "metadata": {},
   "source": [
    "So far I've given examplesof only 1D arrays of scalars, but arrays can have an arbitrary number of dimensions and can also store other arrays\n",
    "\n",
    "For example, the following are arrays of arrays:"
   ]
  },
  {
   "cell_type": "code",
   "execution_count": 21,
   "id": "855af7bd",
   "metadata": {},
   "outputs": [
    {
     "data": {
      "text/plain": [
       "2-element Array{Array{String,1},1}:\n",
       " [\"games\", \"chocolate\", \"soda\"]\n",
       " [\"dogs\", \"cats\", \"birds\"]"
      ]
     },
     "execution_count": 21,
     "metadata": {},
     "output_type": "execute_result"
    }
   ],
   "source": [
    "favorites = [[\"games\", \"chocolate\", \"soda\"], [\"dogs\", \"cats\", \"birds\"]]"
   ]
  },
  {
   "cell_type": "code",
   "execution_count": 22,
   "id": "756d4f80",
   "metadata": {},
   "outputs": [
    {
     "data": {
      "text/plain": [
       "3-element Array{Array{Int64,1},1}:\n",
       " [1, 2, 3]\n",
       " [4, 5]\n",
       " [6, 7, 8, 9]"
      ]
     },
     "execution_count": 22,
     "metadata": {},
     "output_type": "execute_result"
    }
   ],
   "source": [
    "numbers = [[1, 2, 3], [4, 5], [6, 7, 8, 9]]"
   ]
  },
  {
   "cell_type": "markdown",
   "id": "00a0a98a",
   "metadata": {},
   "source": [
    "Below are examples of 2D and 3D arrays populated with random values "
   ]
  },
  {
   "cell_type": "code",
   "execution_count": 24,
   "id": "383a3a0c",
   "metadata": {},
   "outputs": [
    {
     "data": {
      "text/plain": [
       "4×3 Array{Float64,2}:\n",
       " 0.905251  0.840626  0.569788\n",
       " 0.832549  0.5254    0.542806\n",
       " 0.269476  0.144864  0.971429\n",
       " 0.598271  0.519249  0.132712"
      ]
     },
     "execution_count": 24,
     "metadata": {},
     "output_type": "execute_result"
    }
   ],
   "source": [
    "rand(4, 3)"
   ]
  },
  {
   "cell_type": "code",
   "execution_count": 25,
   "id": "7092ef5b",
   "metadata": {},
   "outputs": [
    {
     "data": {
      "text/plain": [
       "4×3×2 Array{Float64,3}:\n",
       "[:, :, 1] =\n",
       " 0.550081   0.903975  0.751551\n",
       " 0.0592733  0.849853  0.652783\n",
       " 0.981476   0.949081  0.025079\n",
       " 0.452813   0.936674  0.621789\n",
       "\n",
       "[:, :, 2] =\n",
       " 0.656951  0.797412  0.885661\n",
       " 0.17743   0.477883  0.483925\n",
       " 0.848931  0.337459  0.36413\n",
       " 0.676372  0.764218  0.321807"
      ]
     },
     "execution_count": 25,
     "metadata": {},
     "output_type": "execute_result"
    }
   ],
   "source": [
    "rand(4, 3, 2)"
   ]
  }
 ],
 "metadata": {
  "kernelspec": {
   "display_name": "Julia 1.5.3",
   "language": "julia",
   "name": "julia-1.5"
  },
  "language_info": {
   "file_extension": ".jl",
   "mimetype": "application/julia",
   "name": "julia",
   "version": "1.5.3"
  }
 },
 "nbformat": 4,
 "nbformat_minor": 5
}
